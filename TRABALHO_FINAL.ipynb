{
  "nbformat": 4,
  "nbformat_minor": 0,
  "metadata": {
    "colab": {
      "provenance": []
    },
    "kernelspec": {
      "name": "python3",
      "display_name": "Python 3"
    },
    "language_info": {
      "name": "python"
    }
  },
  "cells": [
    {
      "cell_type": "markdown",
      "source": [
        "#DIÁRIO DE ANÁLISES"
      ],
      "metadata": {
        "id": "wjSe-ugdI_5N"
      }
    },
    {
      "cell_type": "markdown",
      "source": [
        "## Encontrado x problemas de registros:\n",
        "###20241111-13h56\n",
        "  - campo y com conteúdo faltando\n",
        "  - pergunta enviada ao grupo g (pesquisador p) sobre qual seria o dado correto.\n",
        "\n",
        "###20241111-14h12\n",
        "  - campo y com conteúdo errado\n",
        "  - pergunta enviada ao grupo g (pesquisador p) sobre qual seria o dado correto.\n",
        "\n",
        "###20241111-15h36\n",
        "  - resposta recebida do grupo g\n",
        "  - campo y faltante deve ser preenchido com Y\n",
        "\n",
        "###20241111-15h40\n",
        "  - resposta recebida do grupo g\n",
        "  - campo y com conteúdo errado deve ser preenchido com Y\n",
        "\n",
        "###20241111-16h12\n",
        "  - pergunta recebida do grupo g2 sobre o campo z com conteúdo faltando\n",
        "\n",
        "###20241111-17h42\n",
        "  - resposta enviada ao grupo g2, campo z deve ser preenchido com Z"
      ],
      "metadata": {
        "id": "5VNUFR_RJFri"
      }
    },
    {
      "cell_type": "markdown",
      "source": [
        "#Leitura do arquivo de dados"
      ],
      "metadata": {
        "id": "vQhoy9KbK49d"
      }
    },
    {
      "cell_type": "code",
      "execution_count": null,
      "metadata": {
        "id": "K2gh21AFzt_7"
      },
      "outputs": [],
      "source": [
        "import numpy as np\n",
        "import pandas as pd"
      ]
    },
    {
      "cell_type": "code",
      "source": [],
      "metadata": {
        "id": "Aez7bMLjK1Ib"
      },
      "execution_count": null,
      "outputs": []
    },
    {
      "cell_type": "markdown",
      "source": [
        "#Testes de Normalidade"
      ],
      "metadata": {
        "id": "uYQlxT20z1ND"
      }
    },
    {
      "cell_type": "code",
      "source": [],
      "metadata": {
        "id": "ggXSiLvyz9bN"
      },
      "execution_count": null,
      "outputs": []
    },
    {
      "cell_type": "markdown",
      "source": [
        "#Testes de Homogeneidade"
      ],
      "metadata": {
        "id": "NR8bkF7bLAQk"
      }
    },
    {
      "cell_type": "code",
      "source": [],
      "metadata": {
        "id": "qvT71sG53zxk"
      },
      "execution_count": null,
      "outputs": []
    },
    {
      "cell_type": "markdown",
      "source": [
        "#Testes de Independência"
      ],
      "metadata": {
        "id": "C2YQ-V9ULJK3"
      }
    },
    {
      "cell_type": "code",
      "source": [],
      "metadata": {
        "id": "RKyYBaEL35gX"
      },
      "execution_count": null,
      "outputs": []
    },
    {
      "cell_type": "markdown",
      "source": [
        "#Escolher uma variável categórica do dataset e demonstrar como seria uma distribuição homogênea"
      ],
      "metadata": {
        "id": "h6K6rkicLQBe"
      }
    },
    {
      "cell_type": "code",
      "source": [],
      "metadata": {
        "id": "sDbJMeY_1LO7"
      },
      "execution_count": null,
      "outputs": []
    }
  ]
}